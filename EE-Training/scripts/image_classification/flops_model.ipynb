{
 "cells": [
  {
   "cell_type": "code",
   "execution_count": null,
   "id": "e3084e7b",
   "metadata": {},
   "outputs": [
    {
     "name": "stderr",
     "output_type": "stream",
     "text": [
      "/home/escade/anaconda3/envs/escade/lib/python3.10/site-packages/tqdm/auto.py:21: TqdmWarning: IProgress not found. Please update jupyter and ipywidgets. See https://ipywidgets.readthedocs.io/en/stable/user_install.html\n",
      "  from .autonotebook import tqdm as notebook_tqdm\n"
     ]
    },
    {
     "name": "stdout",
     "output_type": "stream",
     "text": [
      "🔍 Evaluating efficientformerv2_s2...\n"
     ]
    },
    {
     "name": "stderr",
     "output_type": "stream",
     "text": [
      "Unsupported operator aten::gelu encountered 67 time(s)\n",
      "Unsupported operator aten::mul encountered 45 time(s)\n",
      "Unsupported operator aten::add encountered 57 time(s)\n",
      "Unsupported operator aten::softmax encountered 9 time(s)\n",
      "Unsupported operator aten::avg_pool2d encountered 1 time(s)\n",
      "Unsupported operator aten::mean encountered 1 time(s)\n",
      "Unsupported operator aten::div encountered 1 time(s)\n",
      "The following submodules of the model were never called during the trace of the graph. They may be unused, or they were accessed by direct calls to .forward() or via other python methods. In the latter case they will have zeros for statistics, though their statistics will still contribute to their parent calling module.\n",
      "stages.0.blocks.1.drop_path2, stages.0.blocks.2.drop_path2, stages.0.blocks.3.drop_path2, stages.1.blocks.0.drop_path2, stages.1.blocks.1.drop_path2, stages.1.blocks.2.drop_path2, stages.1.blocks.3.drop_path2, stages.2.blocks.0.drop_path2, stages.2.blocks.1.drop_path2, stages.2.blocks.10.drop_path1, stages.2.blocks.10.drop_path2, stages.2.blocks.11.drop_path1, stages.2.blocks.11.drop_path2, stages.2.blocks.2.drop_path2, stages.2.blocks.3.drop_path2, stages.2.blocks.4.drop_path2, stages.2.blocks.5.drop_path2, stages.2.blocks.6.drop_path2, stages.2.blocks.7.drop_path2, stages.2.blocks.8.drop_path1, stages.2.blocks.8.drop_path2, stages.2.blocks.9.drop_path1, stages.2.blocks.9.drop_path2, stages.3.blocks.0.drop_path2, stages.3.blocks.1.drop_path2, stages.3.blocks.2.drop_path2, stages.3.blocks.3.drop_path2, stages.3.blocks.4.drop_path1, stages.3.blocks.4.drop_path2, stages.3.blocks.5.drop_path1, stages.3.blocks.5.drop_path2, stages.3.blocks.6.drop_path1, stages.3.blocks.6.drop_path2, stages.3.blocks.7.drop_path1, stages.3.blocks.7.drop_path2\n"
     ]
    },
    {
     "name": "stdout",
     "output_type": "stream",
     "text": [
      "🔍 Evaluating efficientnet_b3...\n"
     ]
    },
    {
     "name": "stderr",
     "output_type": "stream",
     "text": [
      "Unsupported operator aten::silu_ encountered 78 time(s)\n",
      "Unsupported operator aten::mean encountered 26 time(s)\n",
      "Unsupported operator aten::sigmoid encountered 26 time(s)\n",
      "Unsupported operator aten::mul encountered 26 time(s)\n",
      "Unsupported operator aten::add encountered 19 time(s)\n"
     ]
    },
    {
     "name": "stdout",
     "output_type": "stream",
     "text": [
      "🔍 Evaluating tiny_vit_21m_224...\n"
     ]
    },
    {
     "name": "stderr",
     "output_type": "stream",
     "text": [
      "Unsupported operator aten::gelu encountered 23 time(s)\n",
      "Unsupported operator aten::add_ encountered 2 time(s)\n",
      "Unsupported operator aten::mul encountered 14 time(s)\n",
      "Unsupported operator aten::rsub encountered 4 time(s)\n",
      "Unsupported operator aten::add encountered 24 time(s)\n",
      "Unsupported operator aten::scaled_dot_product_attention encountered 10 time(s)\n",
      "The following submodules of the model were never called during the trace of the graph. They may be unused, or they were accessed by direct calls to .forward() or via other python methods. In the latter case they will have zeros for statistics, though their statistics will still contribute to their parent calling module.\n",
      "stages.0.blocks.1.drop_path, stages.1.blocks.0.drop_path1, stages.1.blocks.0.drop_path2, stages.1.blocks.1.drop_path1, stages.1.blocks.1.drop_path2, stages.2.blocks.0.drop_path1, stages.2.blocks.0.drop_path2, stages.2.blocks.1.drop_path1, stages.2.blocks.1.drop_path2, stages.2.blocks.2.drop_path1, stages.2.blocks.2.drop_path2, stages.2.blocks.3.drop_path1, stages.2.blocks.3.drop_path2, stages.2.blocks.4.drop_path1, stages.2.blocks.4.drop_path2, stages.2.blocks.5.drop_path1, stages.2.blocks.5.drop_path2, stages.3.blocks.0.drop_path1, stages.3.blocks.0.drop_path2, stages.3.blocks.1.drop_path1, stages.3.blocks.1.drop_path2\n"
     ]
    },
    {
     "name": "stdout",
     "output_type": "stream",
     "text": [
      "🔍 Evaluating resnet101...\n"
     ]
    },
    {
     "name": "stderr",
     "output_type": "stream",
     "text": [
      "Unsupported operator aten::max_pool2d encountered 1 time(s)\n",
      "Unsupported operator aten::add_ encountered 33 time(s)\n"
     ]
    },
    {
     "name": "stdout",
     "output_type": "stream",
     "text": [
      "🔍 Evaluating resnet152...\n"
     ]
    },
    {
     "name": "stderr",
     "output_type": "stream",
     "text": [
      "Unsupported operator aten::max_pool2d encountered 1 time(s)\n",
      "Unsupported operator aten::add_ encountered 50 time(s)\n"
     ]
    },
    {
     "name": "stdout",
     "output_type": "stream",
     "text": [
      "🔍 Evaluating regnety_032...\n"
     ]
    },
    {
     "name": "stderr",
     "output_type": "stream",
     "text": [
      "Unsupported operator aten::mean encountered 21 time(s)\n",
      "Unsupported operator aten::sigmoid encountered 21 time(s)\n",
      "Unsupported operator aten::mul encountered 21 time(s)\n",
      "Unsupported operator aten::add encountered 21 time(s)\n"
     ]
    },
    {
     "name": "stdout",
     "output_type": "stream",
     "text": [
      "🔍 Evaluating beit_base_patch16_224...\n"
     ]
    },
    {
     "name": "stderr",
     "output_type": "stream",
     "text": [
      "Unsupported operator aten::scaled_dot_product_attention encountered 12 time(s)\n",
      "Unsupported operator aten::mul encountered 24 time(s)\n",
      "Unsupported operator aten::add encountered 24 time(s)\n",
      "Unsupported operator aten::gelu encountered 12 time(s)\n",
      "Unsupported operator aten::mean encountered 1 time(s)\n",
      "The following submodules of the model were never called during the trace of the graph. They may be unused, or they were accessed by direct calls to .forward() or via other python methods. In the latter case they will have zeros for statistics, though their statistics will still contribute to their parent calling module.\n",
      "blocks.0.attn.attn_drop, blocks.0.attn.qkv, blocks.1.attn.attn_drop, blocks.1.attn.qkv, blocks.10.attn.attn_drop, blocks.10.attn.qkv, blocks.11.attn.attn_drop, blocks.11.attn.qkv, blocks.2.attn.attn_drop, blocks.2.attn.qkv, blocks.3.attn.attn_drop, blocks.3.attn.qkv, blocks.4.attn.attn_drop, blocks.4.attn.qkv, blocks.5.attn.attn_drop, blocks.5.attn.qkv, blocks.6.attn.attn_drop, blocks.6.attn.qkv, blocks.7.attn.attn_drop, blocks.7.attn.qkv, blocks.8.attn.attn_drop, blocks.8.attn.qkv, blocks.9.attn.attn_drop, blocks.9.attn.qkv\n"
     ]
    },
    {
     "name": "stdout",
     "output_type": "stream",
     "text": [
      "🔍 Evaluating deit3_base_patch16_224...\n"
     ]
    },
    {
     "name": "stderr",
     "output_type": "stream",
     "text": [
      "Unsupported operator aten::add encountered 25 time(s)\n",
      "Unsupported operator aten::scaled_dot_product_attention encountered 12 time(s)\n",
      "Unsupported operator aten::mul encountered 24 time(s)\n",
      "Unsupported operator aten::gelu encountered 12 time(s)\n",
      "The following submodules of the model were never called during the trace of the graph. They may be unused, or they were accessed by direct calls to .forward() or via other python methods. In the latter case they will have zeros for statistics, though their statistics will still contribute to their parent calling module.\n",
      "blocks.0.attn.attn_drop, blocks.1.attn.attn_drop, blocks.10.attn.attn_drop, blocks.11.attn.attn_drop, blocks.2.attn.attn_drop, blocks.3.attn.attn_drop, blocks.4.attn.attn_drop, blocks.5.attn.attn_drop, blocks.6.attn.attn_drop, blocks.7.attn.attn_drop, blocks.8.attn.attn_drop, blocks.9.attn.attn_drop\n"
     ]
    },
    {
     "name": "stdout",
     "output_type": "stream",
     "text": [
      "🔍 Evaluating davit_base...\n"
     ]
    },
    {
     "name": "stderr",
     "output_type": "stream",
     "text": [
      "Unsupported operator aten::rsub encountered 32 time(s)\n",
      "Unsupported operator aten::pad encountered 16 time(s)\n",
      "Unsupported operator aten::add encountered 96 time(s)\n",
      "Unsupported operator aten::scaled_dot_product_attention encountered 12 time(s)\n",
      "Unsupported operator aten::mul encountered 24 time(s)\n",
      "Unsupported operator aten::gelu encountered 24 time(s)\n",
      "Unsupported operator aten::softmax encountered 12 time(s)\n",
      "The following submodules of the model were never called during the trace of the graph. They may be unused, or they were accessed by direct calls to .forward() or via other python methods. In the latter case they will have zeros for statistics, though their statistics will still contribute to their parent calling module.\n",
      "stages.0.blocks.0.0.attn.softmax, stages.1.blocks.0.0.attn.softmax, stages.2.blocks.0.0.attn.softmax, stages.2.blocks.1.0.attn.softmax, stages.2.blocks.2.0.attn.softmax, stages.2.blocks.3.0.attn.softmax, stages.2.blocks.4.0.attn.softmax, stages.2.blocks.5.0.attn.softmax, stages.2.blocks.6.0.attn.softmax, stages.2.blocks.7.0.attn.softmax, stages.2.blocks.8.0.attn.softmax, stages.3.blocks.0.0.attn.softmax\n"
     ]
    },
    {
     "name": "stdout",
     "output_type": "stream",
     "text": [
      "🔍 Evaluating vit_base_patch16_224...\n"
     ]
    },
    {
     "name": "stderr",
     "output_type": "stream",
     "text": [
      "Unsupported operator aten::add encountered 25 time(s)\n",
      "Unsupported operator aten::scaled_dot_product_attention encountered 12 time(s)\n",
      "Unsupported operator aten::gelu encountered 12 time(s)\n",
      "The following submodules of the model were never called during the trace of the graph. They may be unused, or they were accessed by direct calls to .forward() or via other python methods. In the latter case they will have zeros for statistics, though their statistics will still contribute to their parent calling module.\n",
      "blocks.0.attn.attn_drop, blocks.1.attn.attn_drop, blocks.10.attn.attn_drop, blocks.11.attn.attn_drop, blocks.2.attn.attn_drop, blocks.3.attn.attn_drop, blocks.4.attn.attn_drop, blocks.5.attn.attn_drop, blocks.6.attn.attn_drop, blocks.7.attn.attn_drop, blocks.8.attn.attn_drop, blocks.9.attn.attn_drop\n"
     ]
    },
    {
     "name": "stdout",
     "output_type": "stream",
     "text": [
      "🔍 Evaluating swin_base_patch4_window7_224...\n"
     ]
    },
    {
     "name": "stderr",
     "output_type": "stream",
     "text": [
      "Unsupported operator aten::rsub encountered 48 time(s)\n",
      "Unsupported operator aten::pad encountered 27 time(s)\n",
      "Unsupported operator aten::mul encountered 24 time(s)\n",
      "Unsupported operator aten::add encountered 83 time(s)\n",
      "Unsupported operator aten::softmax encountered 24 time(s)\n",
      "Unsupported operator aten::gelu encountered 24 time(s)\n",
      "Unsupported operator aten::mean encountered 1 time(s)\n",
      "The following submodules of the model were never called during the trace of the graph. They may be unused, or they were accessed by direct calls to .forward() or via other python methods. In the latter case they will have zeros for statistics, though their statistics will still contribute to their parent calling module.\n",
      "layers.0.blocks.1.drop_path1, layers.0.blocks.1.drop_path2, layers.1.blocks.0.drop_path1, layers.1.blocks.0.drop_path2, layers.1.blocks.1.drop_path1, layers.1.blocks.1.drop_path2, layers.2.blocks.0.drop_path1, layers.2.blocks.0.drop_path2, layers.2.blocks.1.drop_path1, layers.2.blocks.1.drop_path2, layers.2.blocks.10.drop_path1, layers.2.blocks.10.drop_path2, layers.2.blocks.11.drop_path1, layers.2.blocks.11.drop_path2, layers.2.blocks.12.drop_path1, layers.2.blocks.12.drop_path2, layers.2.blocks.13.drop_path1, layers.2.blocks.13.drop_path2, layers.2.blocks.14.drop_path1, layers.2.blocks.14.drop_path2, layers.2.blocks.15.drop_path1, layers.2.blocks.15.drop_path2, layers.2.blocks.16.drop_path1, layers.2.blocks.16.drop_path2, layers.2.blocks.17.drop_path1, layers.2.blocks.17.drop_path2, layers.2.blocks.2.drop_path1, layers.2.blocks.2.drop_path2, layers.2.blocks.3.drop_path1, layers.2.blocks.3.drop_path2, layers.2.blocks.4.drop_path1, layers.2.blocks.4.drop_path2, layers.2.blocks.5.drop_path1, layers.2.blocks.5.drop_path2, layers.2.blocks.6.drop_path1, layers.2.blocks.6.drop_path2, layers.2.blocks.7.drop_path1, layers.2.blocks.7.drop_path2, layers.2.blocks.8.drop_path1, layers.2.blocks.8.drop_path2, layers.2.blocks.9.drop_path1, layers.2.blocks.9.drop_path2, layers.3.blocks.0.drop_path1, layers.3.blocks.0.drop_path2, layers.3.blocks.1.drop_path1, layers.3.blocks.1.drop_path2\n"
     ]
    },
    {
     "name": "stdout",
     "output_type": "stream",
     "text": [
      "🔍 Evaluating convnext_base...\n"
     ]
    },
    {
     "name": "stderr",
     "output_type": "stream",
     "text": [
      "Unsupported operator aten::gelu encountered 36 time(s)\n",
      "Unsupported operator aten::mul encountered 36 time(s)\n",
      "Unsupported operator aten::add encountered 36 time(s)\n"
     ]
    },
    {
     "name": "stdout",
     "output_type": "stream",
     "text": [
      "🔍 Evaluating swin_large_patch4_window7_224...\n"
     ]
    },
    {
     "name": "stderr",
     "output_type": "stream",
     "text": [
      "Unsupported operator aten::rsub encountered 48 time(s)\n",
      "Unsupported operator aten::pad encountered 27 time(s)\n",
      "Unsupported operator aten::mul encountered 24 time(s)\n",
      "Unsupported operator aten::add encountered 83 time(s)\n",
      "Unsupported operator aten::softmax encountered 24 time(s)\n",
      "Unsupported operator aten::gelu encountered 24 time(s)\n",
      "Unsupported operator aten::mean encountered 1 time(s)\n",
      "The following submodules of the model were never called during the trace of the graph. They may be unused, or they were accessed by direct calls to .forward() or via other python methods. In the latter case they will have zeros for statistics, though their statistics will still contribute to their parent calling module.\n",
      "layers.0.blocks.1.drop_path1, layers.0.blocks.1.drop_path2, layers.1.blocks.0.drop_path1, layers.1.blocks.0.drop_path2, layers.1.blocks.1.drop_path1, layers.1.blocks.1.drop_path2, layers.2.blocks.0.drop_path1, layers.2.blocks.0.drop_path2, layers.2.blocks.1.drop_path1, layers.2.blocks.1.drop_path2, layers.2.blocks.10.drop_path1, layers.2.blocks.10.drop_path2, layers.2.blocks.11.drop_path1, layers.2.blocks.11.drop_path2, layers.2.blocks.12.drop_path1, layers.2.blocks.12.drop_path2, layers.2.blocks.13.drop_path1, layers.2.blocks.13.drop_path2, layers.2.blocks.14.drop_path1, layers.2.blocks.14.drop_path2, layers.2.blocks.15.drop_path1, layers.2.blocks.15.drop_path2, layers.2.blocks.16.drop_path1, layers.2.blocks.16.drop_path2, layers.2.blocks.17.drop_path1, layers.2.blocks.17.drop_path2, layers.2.blocks.2.drop_path1, layers.2.blocks.2.drop_path2, layers.2.blocks.3.drop_path1, layers.2.blocks.3.drop_path2, layers.2.blocks.4.drop_path1, layers.2.blocks.4.drop_path2, layers.2.blocks.5.drop_path1, layers.2.blocks.5.drop_path2, layers.2.blocks.6.drop_path1, layers.2.blocks.6.drop_path2, layers.2.blocks.7.drop_path1, layers.2.blocks.7.drop_path2, layers.2.blocks.8.drop_path1, layers.2.blocks.8.drop_path2, layers.2.blocks.9.drop_path1, layers.2.blocks.9.drop_path2, layers.3.blocks.0.drop_path1, layers.3.blocks.0.drop_path2, layers.3.blocks.1.drop_path1, layers.3.blocks.1.drop_path2\n"
     ]
    },
    {
     "name": "stdout",
     "output_type": "stream",
     "text": [
      "🔍 Evaluating convnext_large...\n"
     ]
    },
    {
     "name": "stderr",
     "output_type": "stream",
     "text": [
      "Unsupported operator aten::gelu encountered 36 time(s)\n",
      "Unsupported operator aten::mul encountered 36 time(s)\n",
      "Unsupported operator aten::add encountered 36 time(s)\n"
     ]
    },
    {
     "name": "stdout",
     "output_type": "stream",
     "text": [
      "🔍 Evaluating resnetv2_152x2_bit...\n"
     ]
    },
    {
     "name": "stderr",
     "output_type": "stream",
     "text": [
      "Unsupported operator aten::reshape_as encountered 155 time(s)\n",
      "Unsupported operator aten::pad encountered 1 time(s)\n",
      "Unsupported operator aten::max_pool2d encountered 1 time(s)\n",
      "Unsupported operator aten::add encountered 50 time(s)\n"
     ]
    },
    {
     "name": "stdout",
     "output_type": "stream",
     "text": [
      "🔍 Evaluating deit3_large_patch16_224...\n"
     ]
    },
    {
     "name": "stderr",
     "output_type": "stream",
     "text": [
      "Unsupported operator aten::add encountered 49 time(s)\n",
      "Unsupported operator aten::scaled_dot_product_attention encountered 24 time(s)\n",
      "Unsupported operator aten::mul encountered 48 time(s)\n",
      "Unsupported operator aten::gelu encountered 24 time(s)\n",
      "The following submodules of the model were never called during the trace of the graph. They may be unused, or they were accessed by direct calls to .forward() or via other python methods. In the latter case they will have zeros for statistics, though their statistics will still contribute to their parent calling module.\n",
      "blocks.0.attn.attn_drop, blocks.1.attn.attn_drop, blocks.10.attn.attn_drop, blocks.11.attn.attn_drop, blocks.12.attn.attn_drop, blocks.13.attn.attn_drop, blocks.14.attn.attn_drop, blocks.15.attn.attn_drop, blocks.16.attn.attn_drop, blocks.17.attn.attn_drop, blocks.18.attn.attn_drop, blocks.19.attn.attn_drop, blocks.2.attn.attn_drop, blocks.20.attn.attn_drop, blocks.21.attn.attn_drop, blocks.22.attn.attn_drop, blocks.23.attn.attn_drop, blocks.3.attn.attn_drop, blocks.4.attn.attn_drop, blocks.5.attn.attn_drop, blocks.6.attn.attn_drop, blocks.7.attn.attn_drop, blocks.8.attn.attn_drop, blocks.9.attn.attn_drop\n"
     ]
    },
    {
     "name": "stdout",
     "output_type": "stream",
     "text": [
      "🔍 Evaluating beit_large_patch16_224...\n"
     ]
    },
    {
     "name": "stderr",
     "output_type": "stream",
     "text": [
      "Unsupported operator aten::scaled_dot_product_attention encountered 24 time(s)\n",
      "Unsupported operator aten::mul encountered 48 time(s)\n",
      "Unsupported operator aten::add encountered 48 time(s)\n",
      "Unsupported operator aten::gelu encountered 24 time(s)\n",
      "Unsupported operator aten::mean encountered 1 time(s)\n",
      "The following submodules of the model were never called during the trace of the graph. They may be unused, or they were accessed by direct calls to .forward() or via other python methods. In the latter case they will have zeros for statistics, though their statistics will still contribute to their parent calling module.\n",
      "blocks.0.attn.attn_drop, blocks.0.attn.qkv, blocks.1.attn.attn_drop, blocks.1.attn.qkv, blocks.10.attn.attn_drop, blocks.10.attn.qkv, blocks.11.attn.attn_drop, blocks.11.attn.qkv, blocks.12.attn.attn_drop, blocks.12.attn.qkv, blocks.13.attn.attn_drop, blocks.13.attn.qkv, blocks.14.attn.attn_drop, blocks.14.attn.qkv, blocks.15.attn.attn_drop, blocks.15.attn.qkv, blocks.16.attn.attn_drop, blocks.16.attn.qkv, blocks.17.attn.attn_drop, blocks.17.attn.qkv, blocks.18.attn.attn_drop, blocks.18.attn.qkv, blocks.19.attn.attn_drop, blocks.19.attn.qkv, blocks.2.attn.attn_drop, blocks.2.attn.qkv, blocks.20.attn.attn_drop, blocks.20.attn.qkv, blocks.21.attn.attn_drop, blocks.21.attn.qkv, blocks.22.attn.attn_drop, blocks.22.attn.qkv, blocks.23.attn.attn_drop, blocks.23.attn.qkv, blocks.3.attn.attn_drop, blocks.3.attn.qkv, blocks.4.attn.attn_drop, blocks.4.attn.qkv, blocks.5.attn.attn_drop, blocks.5.attn.qkv, blocks.6.attn.attn_drop, blocks.6.attn.qkv, blocks.7.attn.attn_drop, blocks.7.attn.qkv, blocks.8.attn.attn_drop, blocks.8.attn.qkv, blocks.9.attn.attn_drop, blocks.9.attn.qkv\n"
     ]
    },
    {
     "name": "stdout",
     "output_type": "stream",
     "text": [
      "🔍 Evaluating vit_large_patch16_224...\n"
     ]
    },
    {
     "name": "stderr",
     "output_type": "stream",
     "text": [
      "Unsupported operator aten::add encountered 49 time(s)\n",
      "Unsupported operator aten::scaled_dot_product_attention encountered 24 time(s)\n",
      "Unsupported operator aten::gelu encountered 24 time(s)\n",
      "The following submodules of the model were never called during the trace of the graph. They may be unused, or they were accessed by direct calls to .forward() or via other python methods. In the latter case they will have zeros for statistics, though their statistics will still contribute to their parent calling module.\n",
      "blocks.0.attn.attn_drop, blocks.1.attn.attn_drop, blocks.10.attn.attn_drop, blocks.11.attn.attn_drop, blocks.12.attn.attn_drop, blocks.13.attn.attn_drop, blocks.14.attn.attn_drop, blocks.15.attn.attn_drop, blocks.16.attn.attn_drop, blocks.17.attn.attn_drop, blocks.18.attn.attn_drop, blocks.19.attn.attn_drop, blocks.2.attn.attn_drop, blocks.20.attn.attn_drop, blocks.21.attn.attn_drop, blocks.22.attn.attn_drop, blocks.23.attn.attn_drop, blocks.3.attn.attn_drop, blocks.4.attn.attn_drop, blocks.5.attn.attn_drop, blocks.6.attn.attn_drop, blocks.7.attn.attn_drop, blocks.8.attn.attn_drop, blocks.9.attn.attn_drop\n"
     ]
    },
    {
     "name": "stdout",
     "output_type": "stream",
     "text": [
      "🔍 Evaluating vit_large_patch14_clip_224...\n"
     ]
    },
    {
     "name": "stderr",
     "output_type": "stream",
     "text": [
      "Unsupported operator aten::add encountered 49 time(s)\n",
      "Unsupported operator aten::scaled_dot_product_attention encountered 24 time(s)\n",
      "Unsupported operator aten::gelu encountered 24 time(s)\n",
      "The following submodules of the model were never called during the trace of the graph. They may be unused, or they were accessed by direct calls to .forward() or via other python methods. In the latter case they will have zeros for statistics, though their statistics will still contribute to their parent calling module.\n",
      "blocks.0.attn.attn_drop, blocks.1.attn.attn_drop, blocks.10.attn.attn_drop, blocks.11.attn.attn_drop, blocks.12.attn.attn_drop, blocks.13.attn.attn_drop, blocks.14.attn.attn_drop, blocks.15.attn.attn_drop, blocks.16.attn.attn_drop, blocks.17.attn.attn_drop, blocks.18.attn.attn_drop, blocks.19.attn.attn_drop, blocks.2.attn.attn_drop, blocks.20.attn.attn_drop, blocks.21.attn.attn_drop, blocks.22.attn.attn_drop, blocks.23.attn.attn_drop, blocks.3.attn.attn_drop, blocks.4.attn.attn_drop, blocks.5.attn.attn_drop, blocks.6.attn.attn_drop, blocks.7.attn.attn_drop, blocks.8.attn.attn_drop, blocks.9.attn.attn_drop\n"
     ]
    },
    {
     "name": "stdout",
     "output_type": "stream",
     "text": [
      "🔍 Evaluating convnext_xlarge...\n"
     ]
    },
    {
     "name": "stderr",
     "output_type": "stream",
     "text": [
      "Unsupported operator aten::gelu encountered 36 time(s)\n",
      "Unsupported operator aten::mul encountered 36 time(s)\n",
      "Unsupported operator aten::add encountered 36 time(s)\n"
     ]
    },
    {
     "name": "stdout",
     "output_type": "stream",
     "text": [
      "✅ Saved to /home/escade/ESCADE/code/git/pytorch-image-models/EE-Training/Dataset/image_classification/model_flops_params.csv\n"
     ]
    }
   ],
   "source": [
    "import torch\n",
    "from timm import create_model\n",
    "from fvcore.nn import FlopCountAnalysis\n",
    "import pandas as pd\n",
    "\n",
    "MODELS = (\n",
    "    \"efficientformerv2_s2\",\n",
    "    \"efficientnet_b3\",\n",
    "    \"tiny_vit_21m_224\",\n",
    "    \"resnet101\",\n",
    "    \"resnet152\",\n",
    "    \"regnety_032\",\n",
    "    \"beit_base_patch16_224\",\n",
    "    \"deit3_base_patch16_224\",\n",
    "    \"davit_base\",\n",
    "    \"vit_base_patch16_224\",\n",
    "    \"swin_base_patch4_window7_224\",\n",
    "    \"convnext_base\",\n",
    "    \"swin_large_patch4_window7_224\",\n",
    "    \"convnext_large\",\n",
    "    \"resnetv2_152x2_bit\",\n",
    "    \"deit3_large_patch16_224\",\n",
    "    \"beit_large_patch16_224\",\n",
    "    \"vit_large_patch16_224\",\n",
    "    \"vit_large_patch14_clip_224\",\n",
    "    \"convnext_xlarge\",\n",
    ")\n",
    "\n",
    "results = []\n",
    "device = \"cuda\" if torch.cuda.is_available() else \"cpu\"\n",
    "\n",
    "for model_name in MODELS:\n",
    "    input_shape = (3, 224, 224)\n",
    "    try:\n",
    "        print(f\"🔍 Evaluating {model_name}...\")\n",
    "        model = create_model(model_name, pretrained=False).to(device).eval()\n",
    "        input_tensor = torch.randn(1, *input_shape).to(device)\n",
    "\n",
    "        # FLOPs calculation\n",
    "        flops = FlopCountAnalysis(model, input_tensor)\n",
    "        forward_flops = flops.total() / 1e9  # Convert to GFLOPs\n",
    "        training_flops = forward_flops * 2   # Forward + backward\n",
    "\n",
    "        # Parameter count\n",
    "        num_params = sum(p.numel() for p in model.parameters()) / 1e6  # Millions\n",
    "\n",
    "        results.append((model_name, round(forward_flops, 3), round(training_flops, 3), round(num_params, 2)))\n",
    "\n",
    "    except Exception as e:\n",
    "        results.append((model_name, \"❌ Error\", \"❌ Error\", str(e)))\n",
    "        print(f\"❌ Error evaluating {model_name}: {e}\")\n",
    "\n",
    "# Save to CSV\n",
    "df = pd.DataFrame(results, columns=[\"model\", \"forward_flops\", \"training_flops\", \"params\"])\n",
    "output_csv = \"/home/escade/ESCADE/code/git/pytorch-image-models/EE-Training/Dataset/image_classification/model_flops_params.csv\"\n",
    "df.to_csv(output_csv, index=False)\n",
    "print(f\"✅ Saved to {output_csv}\")\n"
   ]
  }
 ],
 "metadata": {
  "kernelspec": {
   "display_name": "escade",
   "language": "python",
   "name": "python3"
  },
  "language_info": {
   "codemirror_mode": {
    "name": "ipython",
    "version": 3
   },
   "file_extension": ".py",
   "mimetype": "text/x-python",
   "name": "python",
   "nbconvert_exporter": "python",
   "pygments_lexer": "ipython3",
   "version": "3.10.13"
  }
 },
 "nbformat": 4,
 "nbformat_minor": 5
}
